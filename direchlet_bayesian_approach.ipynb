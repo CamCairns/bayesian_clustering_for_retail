{
 "cells": [
  {
   "cell_type": "code",
   "execution_count": 4,
   "metadata": {
    "collapsed": true
   },
   "outputs": [],
   "source": [
    "%matplotlib inline\n",
    "from IPython.core.pylabtools import figsize\n",
    "import numpy as np\n",
    "from matplotlib import pyplot as plt\n",
    "figsize(11, 9)"
   ]
  },
  {
   "cell_type": "code",
   "execution_count": 10,
   "metadata": {
    "collapsed": false
   },
   "outputs": [
    {
     "data": {
      "image/png": "[encoded data removed]",
      "text/plain": [
       "<matplotlib.figure.Figure at 0x125a2d950>"
      ]
     },
     "metadata": {},
     "output_type": "display_data"
    }
   ],
   "source": [
    "from matplotlib import pyplot as plt\n",
    "import numpy as np\n",
    "import pymc3 as pm\n",
    "import seaborn as sns\n",
    "from theano import tensor as T\n",
    "\n",
    "blue = sns.color_palette()[0]\n",
    "\n",
    "np.random.seed(462233) # from random.org\n",
    "\n",
    "N = 550\n",
    "\n",
    "CENTROIDS = np.array([0, 10, 50, 100])\n",
    "WEIGHTS = np.array([0.4, 0.2, 0.2, 0.2])\n",
    "\n",
    "x = np.random.normal(CENTROIDS[np.random.choice(len(CENTROIDS), size=N, p=WEIGHTS)], size=N)\n",
    "x_std = (x - x.mean()) / x.std()\n",
    "\n",
    "fig, ax = plt.subplots(figsize=(8, 6))\n",
    "\n",
    "ax.hist(x_std, bins=30);"
   ]
  },
  {
   "cell_type": "code",
   "execution_count": 16,
   "metadata": {
    "collapsed": true
   },
   "outputs": [],
   "source": [
    "?pm.Gamma"
   ]
  },
  {
   "cell_type": "code",
   "execution_count": 11,
   "metadata": {
    "collapsed": false
   },
   "outputs": [
    {
     "name": "stderr",
     "output_type": "stream",
     "text": [
      "Average ELBO = 2,734.7: 100%|██████████| 100000/100000 [01:22<00:00, 1211.14it/s]\n",
      "100%|██████████| 2000/2000 [01:31<00:00, 21.94it/s] \n"
     ]
    }
   ],
   "source": [
    "K = 30\n",
    "\n",
    "with pm.Model() as model:\n",
    "    alpha = pm.Gamma('alpha', 1., 1.)\n",
    "    beta = pm.Beta('beta', 1., alpha, shape=K)\n",
    "    w = pm.Deterministic('w', beta * T.concatenate([[1], T.extra_ops.cumprod(1 - beta)[:-1]]))\n",
    "\n",
    "    tau = pm.Gamma('tau', 1., 1., shape=K)\n",
    "    lambda_ = pm.Uniform('lambda', 0, 5, shape=K)\n",
    "    mu = pm.Normal('mu', 0, tau=lambda_ * tau, shape=K)\n",
    "    obs = pm.NormalMixture('obs', w, mu, tau=lambda_ * tau,\n",
    "                           observed=x_std)\n",
    "\n",
    "with model:\n",
    "    trace = pm.sample(2000, n_init=100000)"
   ]
  },
  {
   "cell_type": "code",
   "execution_count": 13,
   "metadata": {
    "collapsed": false
   },
   "outputs": [
    {
     "data": {
      "text/plain": [
       "array([  6.28564033e-01,   1.88279597e-01,   1.83147186e-01,\n",
       "         7.29274071e-06,   1.29414233e-06,   3.57754084e-07,\n",
       "         1.53818324e-07,   4.26885355e-08,   3.83676923e-08,\n",
       "         3.78683061e-09,   7.89995615e-10,   3.12089990e-10,\n",
       "         3.50827505e-11,   9.27475791e-12,   4.80347545e-12,\n",
       "         3.76285852e-12,   3.47705605e-13,   1.79212043e-13,\n",
       "         2.91891542e-13,   1.33886105e-14,   7.61172219e-15,\n",
       "         2.65638750e-15,   1.10293629e-15,   9.52430611e-16,\n",
       "         1.52152408e-16,   1.05135770e-15,   3.70526136e-17,\n",
       "         2.19385569e-17,   2.04772144e-17,   1.18657040e-17])"
      ]
     },
     "execution_count": 13,
     "metadata": {},
     "output_type": "execute_result"
    }
   ],
   "source": [
    "trace['w'].mean(axis=0)"
   ]
  },
  {
   "cell_type": "code",
   "execution_count": 14,
   "metadata": {
    "collapsed": false
   },
   "outputs": [
    {
     "data": {
      "text/plain": [
       "array([ -0.4,   0.6,   1.6,   2.6,   3.6,   4.6,   5.6,   6.6,   7.6,\n",
       "         8.6,   9.6,  10.6,  11.6,  12.6,  13.6,  14.6,  15.6,  16.6,\n",
       "        17.6,  18.6,  19.6,  20.6,  21.6,  22.6,  23.6,  24.6,  25.6,\n",
       "        26.6,  27.6,  28.6])"
      ]
     },
     "execution_count": 14,
     "metadata": {},
     "output_type": "execute_result"
    }
   ],
   "source": [
    "np.arange(K) - 0.4"
   ]
  },
  {
   "cell_type": "code",
   "execution_count": 15,
   "metadata": {
    "collapsed": false
   },
   "outputs": [
    {
     "data": {
      "image/png": "[encoded data removed]",
      "text/plain": [
       "<matplotlib.figure.Figure at 0x121185090>"
      ]
     },
     "metadata": {},
     "output_type": "display_data"
    }
   ],
   "source": [
    "fig, ax = plt.subplots(figsize=(8, 6))\n",
    "\n",
    "ax.bar(np.arange(K) - 0.4, trace['w'].mean(axis=0));"
   ]
  },
  {
   "cell_type": "code",
   "execution_count": null,
   "metadata": {
    "collapsed": true
   },
   "outputs": [],
   "source": []
  }
 ],
 "metadata": {
  "kernelspec": {
   "display_name": "Python 2",
   "language": "python",
   "name": "python2"
  },
  "language_info": {
   "codemirror_mode": {
    "name": "ipython",
    "version": 2
   },
   "file_extension": ".py",
   "mimetype": "text/x-python",
   "name": "python",
   "nbconvert_exporter": "python",
   "pygments_lexer": "ipython2",
   "version": "2.7.11"
  }
 },
 "nbformat": 4,
 "nbformat_minor": 0
}
